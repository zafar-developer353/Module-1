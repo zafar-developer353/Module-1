{
 "cells": [
  {
   "cell_type": "code",
   "execution_count": 8,
   "id": "8f0d4479-3c77-4fc9-805e-fa8676282320",
   "metadata": {},
   "outputs": [
    {
     "data": {
      "text/plain": [
       "[[100, 200, 50, 400], [50, 0, 0, 'error'], [350, 100, 50, 200]]"
      ]
     },
     "execution_count": 8,
     "metadata": {},
     "output_type": "execute_result"
    }
   ],
   "source": [
    "import numpy as np\n",
    "gene1 = [100 , 200 , 50 , 400]\n",
    "gene2 = [50 , 0, 0 , \"error\"]\n",
    "gene3 = [350, 100, 50, 200]\n",
    "expression_data = [gene1,gene2,gene3]\n",
    "expression_data"
   ]
  },
  {
   "cell_type": "code",
   "execution_count": 9,
   "id": "0758f37a-a289-4a5c-a437-2403c7a44c5e",
   "metadata": {},
   "outputs": [
    {
     "name": "stdout",
     "output_type": "stream",
     "text": [
      "[['100' '200' '50' '400']\n",
      " ['50' '0' '0' 'error']\n",
      " ['350' '100' '50' '200']]\n"
     ]
    }
   ],
   "source": [
    "a = np.array(expression_data)\n",
    "print(a)\n",
    "#n.ndim"
   ]
  },
  {
   "cell_type": "code",
   "execution_count": null,
   "id": "fa4d797a-5e62-4c30-b577-0b4f89f1268f",
   "metadata": {},
   "outputs": [],
   "source": []
  }
 ],
 "metadata": {
  "kernelspec": {
   "display_name": "Python 3 (ipykernel)",
   "language": "python",
   "name": "python3"
  },
  "language_info": {
   "codemirror_mode": {
    "name": "ipython",
    "version": 3
   },
   "file_extension": ".py",
   "mimetype": "text/x-python",
   "name": "python",
   "nbconvert_exporter": "python",
   "pygments_lexer": "ipython3",
   "version": "3.11.7"
  }
 },
 "nbformat": 4,
 "nbformat_minor": 5
}
