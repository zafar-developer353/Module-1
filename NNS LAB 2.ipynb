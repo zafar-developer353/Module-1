{
 "cells": [
  {
   "cell_type": "code",
   "execution_count": 1,
   "id": "8f04c5e0-709e-4656-bb88-d2d189ee3b03",
   "metadata": {},
   "outputs": [
    {
     "name": "stdout",
     "output_type": "stream",
     "text": [
      "Z Values: \n",
      "[[-2.59804]\n",
      " [-1.11164]\n",
      " [-0.14906]\n",
      " [-0.5301 ]\n",
      " [-2.16912]\n",
      " [ 1.87958]]\n",
      "[[-0.05959249]\n",
      " [ 2.07670495]\n",
      " [ 0.56323837]\n",
      " [ 0.48795276]]\n",
      "[[-0.85813494]]\n",
      "Activations: \n",
      "[[0.06926467]\n",
      " [0.24756527]\n",
      " [0.46280385]\n",
      " [0.37049356]\n",
      " [0.102558  ]\n",
      " [0.86756288]]\n",
      "[[0.48510628]\n",
      " [0.88861832]\n",
      " [0.6372015 ]\n",
      " [0.61962404]]\n",
      "[[0.29772916]]\n"
     ]
    }
   ],
   "source": [
    "import numpy as np\n",
    "\n",
    "# Initialize weights, biases, and activations\n",
    "weights = np.array([1.62, -0.61, -0.53, -1.07, 0.87, -2.30, 1.74, -0.76, 0.32, -0.25, 1.46, -2.06, -0.32, -0.38, 1.13,\n",
    "                    -1.10, -0.17, -0.88, 0.04, 0.58, -1.10, 1.14, 0.90, 0.50, 0.90, -0.68, -0.12, -0.94, -0.27, 0.53,\n",
    "                    -0.69, -0.40, -0.69, -0.85, -0.67, -0.01, -1.12, 0.23, 1.66, 0.74, -0.19, -0.89, -0.75, 1.69, 0.05,\n",
    "                    -0.64, 0.19, 2.10, 0.12, 0.62, 0.30, -0.35, -1.14, -0.35, -0.21, 0.59, 0.84, 0.93, 0.29, 0.89, -0.75,\n",
    "                    1.25, 0.51, -0.30, 0.49, -0.08, 1.13, 1.52, 2.19, -1.40, -1.44, -0.50, 0.16, 0.88, 0.32, -2.02])\n",
    "biases = np.array([-0.31, 0.83, 0.23, 0.76, -0.22, -0.20, 0.19, 0.41, 0.20, 0.12, -0.67])\n",
    "\n",
    "# Activations of the input layer (first layer)\n",
    "activations = np.zeros(19)\n",
    "activations[:8] = np.array([0.038, 0.12, 1.13, 1.20, 0.19, -0.38, -0.64, 0.42])\n",
    "\n",
    "# Reshape activations, weights, and biases for each layer\n",
    "activations = [\n",
    "    activations[:8].reshape(-1, 1),  # Input layer activations (8 nodes)\n",
    "    activations[8:14].reshape(-1, 1),  # Second layer activations (6 nodes)\n",
    "    activations[14:18].reshape(-1, 1),  # Third layer activations (4 nodes)\n",
    "    activations[18:].reshape(-1, 1)  # Output layer activations (1 node)\n",
    "]\n",
    "  \n",
    "# Split weights and biases for each layer\n",
    "weights = [\n",
    "    weights[:48].reshape(6, 8),  # Weights between layer 1 and 2 (6x8 matrix)\n",
    "    weights[48:72].reshape(4, 6),  # Weights between layer 2 and 3 (4x6 matrix)\n",
    "    weights[72:].reshape(1, 4)  # Weights between layer 3 and 4 (1x4 matrix)\n",
    "]\n",
    "\n",
    "biases = [\n",
    "    biases[:6].reshape(-1, 1),  # Biases for layer 2 (6 nodes)\n",
    "    biases[6:10].reshape(-1, 1),  # Biases for layer 3 (4 nodes)\n",
    "    biases[10:].reshape(-1, 1)  # Biases for layer 4 (1 node)\n",
    "]\n",
    "\n",
    "# Sigmoid activation function\n",
    "def sigmoid(z):\n",
    "    return 1.0 / (1.0 + np.exp(-z))\n",
    "\n",
    "# Feedforward process\n",
    "z_values = []  # Store Z values (weighted sums before activation)\n",
    "for layer_index in range(3):\n",
    "    z = np.dot(weights[layer_index], activations[layer_index]) + biases[layer_index]  # Weighted sum\n",
    "    z_values.append(z)\n",
    "    activations[layer_index + 1] += sigmoid(z)  # Apply activation function to get new activations\n",
    "\n",
    "# Output Z values for each layer\n",
    "print(\"Z Values: \")\n",
    "for layer_index in range(3):\n",
    "    print(z_values[layer_index])\n",
    "\n",
    "# Output activations for each layer after the feedforward process\n",
    "print(\"Activations: \")\n",
    "for layer_index in range(1, 4):\n",
    "    print(activations[layer_index])"
   ]
  },
  {
   "cell_type": "code",
   "execution_count": null,
   "id": "478c3a08-ecd0-49fa-b42c-5c88a4f8148e",
   "metadata": {},
   "outputs": [],
   "source": []
  }
 ],
 "metadata": {
  "kernelspec": {
   "display_name": "Python 3 (ipykernel)",
   "language": "python",
   "name": "python3"
  },
  "language_info": {
   "codemirror_mode": {
    "name": "ipython",
    "version": 3
   },
   "file_extension": ".py",
   "mimetype": "text/x-python",
   "name": "python",
   "nbconvert_exporter": "python",
   "pygments_lexer": "ipython3",
   "version": "3.11.7"
  }
 },
 "nbformat": 4,
 "nbformat_minor": 5
}
